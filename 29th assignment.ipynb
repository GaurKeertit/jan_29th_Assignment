{
 "cells": [
  {
   "cell_type": "code",
   "execution_count": null,
   "id": "7abd9bdb-9058-472d-8fc1-7da382645ee9",
   "metadata": {},
   "outputs": [],
   "source": [
    " Question 1.   Who developed python programming language ?"
   ]
  },
  {
   "cell_type": "code",
   "execution_count": null,
   "id": "eef6961a-bd80-4071-b28a-c684aaad271b",
   "metadata": {},
   "outputs": [],
   "source": [
    "Soln. 1.    Python was introduced by Guido Van Rossum in 1989.  "
   ]
  },
  {
   "cell_type": "code",
   "execution_count": null,
   "id": "87ba5124-cdc6-4cb6-81e9-2c13916dc9a6",
   "metadata": {},
   "outputs": [],
   "source": [
    "Question 2.   Which type of programming does python support ?"
   ]
  },
  {
   "cell_type": "code",
   "execution_count": null,
   "id": "84fbf88e-daa3-4315-8fb9-0559d34735b0",
   "metadata": {},
   "outputs": [],
   "source": [
    "Soln. 2.    Python is a multi-paradigm programming language. Object-oriented programming and structured programming are fully supported, and many of their features support functional programming and aspect-oriented programming "
   ]
  },
  {
   "cell_type": "code",
   "execution_count": null,
   "id": "e45adc6b-783a-465b-a581-634dca7f345c",
   "metadata": {},
   "outputs": [],
   "source": [
    "Question 3.   Is python case sensitive when dealing with identifier ?"
   ]
  },
  {
   "cell_type": "code",
   "execution_count": null,
   "id": "8f568dfd-259c-4be3-b4c7-0b5ae050dcc5",
   "metadata": {},
   "outputs": [],
   "source": [
    "Soln. 3.    Yes, Python is a case-sensitive language, i.e., it treats uppercase and lowercase characters differently. This applies to identifiers too.."
   ]
  },
  {
   "cell_type": "code",
   "execution_count": null,
   "id": "e89d60e1-7851-46f5-8af3-490b68273ba6",
   "metadata": {},
   "outputs": [],
   "source": [
    "Question 4.   What is the correct extension of the python file ?"
   ]
  },
  {
   "cell_type": "code",
   "execution_count": null,
   "id": "ec67bc07-7940-46ba-8f6e-06acd0d587b1",
   "metadata": {},
   "outputs": [],
   "source": [
    "Soln. 4.  The Files with the . py extension contain the Python source code  "
   ]
  },
  {
   "cell_type": "code",
   "execution_count": null,
   "id": "d05de7cf-3a37-406c-adda-18cf02d5bdbf",
   "metadata": {},
   "outputs": [],
   "source": [
    "Question 5.   Is python code compiled or interpreted ?"
   ]
  },
  {
   "cell_type": "code",
   "execution_count": null,
   "id": "0ddcce2f-c28f-4982-a952-dd1d7380f8b4",
   "metadata": {},
   "outputs": [],
   "source": [
    "Soln. 5.  Python is an interpreted language, which means the source code of a Python program is converted into bytecode that is then executed by the Python virtual machine. Python is different from major compiled languages, such as C and C + +."
   ]
  },
  {
   "cell_type": "code",
   "execution_count": null,
   "id": "20a12bed-56a4-49e0-83b0-63fe44566f2f",
   "metadata": {},
   "outputs": [],
   "source": [
    "Question 6. Name a few blocks of code used to define in python language ?"
   ]
  },
  {
   "cell_type": "code",
   "execution_count": null,
   "id": "06c41cec-9520-4ba8-8c6d-74ad5026beeb",
   "metadata": {},
   "outputs": [],
   "source": [
    "Soln. 6.  Indentation is used to define a block of code in python. Braces {} are used to define a block of code in most programming languages, like C, C++, and Java."
   ]
  },
  {
   "cell_type": "code",
   "execution_count": null,
   "id": "b6fbe612-1e51-4769-aa71-49453c2e6f1f",
   "metadata": {},
   "outputs": [],
   "source": [
    "Question 7. State a character used to give single line comment in python ?"
   ]
  },
  {
   "cell_type": "code",
   "execution_count": null,
   "id": "804abeeb-afb0-40f9-9ad2-36319ed1b1bc",
   "metadata": {},
   "outputs": [],
   "source": [
    "Soln. 7.  Hash character(#) is used to comment the line in the Python program. Comments does not have to be text to explain the code, it can also be used to prevent Python from executing code."
   ]
  },
  {
   "cell_type": "code",
   "execution_count": null,
   "id": "2a823741-eada-4f4b-86bf-3661046f8f63",
   "metadata": {},
   "outputs": [],
   "source": [
    "Question 8. Which of the following functions can help us to find the version of python that we are currently working on ?"
   ]
  },
  {
   "cell_type": "code",
   "execution_count": null,
   "id": "329a22e3-4ad8-4347-81e1-03104400d295",
   "metadata": {},
   "outputs": [],
   "source": [
    "Soln. 8.  The function sys. version can help us to find the version of python that we are currently working on."
   ]
  },
  {
   "cell_type": "code",
   "execution_count": null,
   "id": "28dba383-4c7a-48d9-9928-398529c6bf15",
   "metadata": {},
   "outputs": [],
   "source": [
    "Question 9. Python supports the creation of anonymous functions at runtime, using a construct called?"
   ]
  },
  {
   "cell_type": "code",
   "execution_count": null,
   "id": "5f07918f-a653-4665-b3e8-6e100a647419",
   "metadata": {},
   "outputs": [],
   "source": [
    "Soln. 9.  Python supports to make anonymous functions which are not bound to a name(@ runtime). It uses a construct called \"lambda\" ."
   ]
  },
  {
   "cell_type": "code",
   "execution_count": null,
   "id": "2b0a0fc3-27c4-4964-9791-3fc0b19248c2",
   "metadata": {},
   "outputs": [],
   "source": [
    "Question 10. What does pip stand for python ?"
   ]
  },
  {
   "cell_type": "code",
   "execution_count": null,
   "id": "4bb58817-9693-4742-8ec8-e69540ee0e4a",
   "metadata": {},
   "outputs": [],
   "source": []
  },
  {
   "cell_type": "code",
   "execution_count": null,
   "id": "0deffbd1-9f4e-4318-b9be-5b4ae04481e0",
   "metadata": {},
   "outputs": [],
   "source": []
  },
  {
   "cell_type": "code",
   "execution_count": null,
   "id": "e1f1b30e-1313-4094-8f60-d5b0694942e3",
   "metadata": {},
   "outputs": [],
   "source": []
  }
 ],
 "metadata": {
  "kernelspec": {
   "display_name": "Python 3 (ipykernel)",
   "language": "python",
   "name": "python3"
  },
  "language_info": {
   "codemirror_mode": {
    "name": "ipython",
    "version": 3
   },
   "file_extension": ".py",
   "mimetype": "text/x-python",
   "name": "python",
   "nbconvert_exporter": "python",
   "pygments_lexer": "ipython3",
   "version": "3.10.8"
  }
 },
 "nbformat": 4,
 "nbformat_minor": 5
}
